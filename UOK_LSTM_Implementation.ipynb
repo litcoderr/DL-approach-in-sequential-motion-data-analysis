{
 "cells": [
  {
   "cell_type": "markdown",
   "metadata": {},
   "source": [
    "# Implementation of LSTM to Motion Classification Application\n",
    "Implementation of LSTM technique to motion detection application. Developed by James Youngchae Chee."
   ]
  },
  {
   "cell_type": "markdown",
   "metadata": {},
   "source": [
    "### 1. Setting Up Environment"
   ]
  },
  {
   "cell_type": "code",
   "execution_count": 5,
   "metadata": {},
   "outputs": [],
   "source": [
    "import tensorflow as tf\n",
    "import matplotlib.pyplot as plt\n",
    "import numpy as np\n",
    "import pandas as pd"
   ]
  },
  {
   "cell_type": "markdown",
   "metadata": {},
   "source": [
    "### 2. Importing Data\n",
    "This dataset contains fall, swing and still gyro and accelerometer data."
   ]
  },
  {
   "cell_type": "code",
   "execution_count": 14,
   "metadata": {},
   "outputs": [],
   "source": [
    "train_data = [pd.read_csv('./data/fall.csv',header=None),\n",
    "             pd.read_csv('./data/swing.csv',header=None),\n",
    "             pd.read_csv('./data/still.csv',header=None)]\n",
    "test_data = [pd.read_csv('./data/falltest.csv',header=None),\n",
    "             pd.read_csv('./data/swingtest.csv',header=None),\n",
    "             pd.read_csv('./data/stilltest.csv',header=None)]"
   ]
  },
  {
   "cell_type": "markdown",
   "metadata": {},
   "source": [
    "### 3. Examining Data\n",
    "Each Data has <b>1200</b> dimensions --> Stacked numerous sensor data together\n",
    "<br>Each Retrieval of sesor data looks like (linear_accel x,y,z, Gyro x,y,z)\n",
    "<br><b>Number of train_data : 50\n",
    "<br><b>Number of test_data : 10"
   ]
  },
  {
   "cell_type": "code",
   "execution_count": 24,
   "metadata": {},
   "outputs": [
    {
     "data": {
      "text/plain": [
       "(50, 1200)"
      ]
     },
     "execution_count": 24,
     "metadata": {},
     "output_type": "execute_result"
    }
   ],
   "source": [
    "train_data[0].shape"
   ]
  },
  {
   "cell_type": "code",
   "execution_count": 25,
   "metadata": {},
   "outputs": [
    {
     "data": {
      "text/plain": [
       "(10, 1200)"
      ]
     },
     "execution_count": 25,
     "metadata": {},
     "output_type": "execute_result"
    }
   ],
   "source": [
    "test_data[0].shape"
   ]
  }
 ],
 "metadata": {
  "kernelspec": {
   "display_name": "Python 3",
   "language": "python",
   "name": "python3"
  },
  "language_info": {
   "codemirror_mode": {
    "name": "ipython",
    "version": 2
   },
   "file_extension": ".py",
   "mimetype": "text/x-python",
   "name": "python",
   "nbconvert_exporter": "python",
   "pygments_lexer": "ipython2",
   "version": "2.7.13"
  }
 },
 "nbformat": 4,
 "nbformat_minor": 2
}
