{
 "cells": [
  {
   "cell_type": "markdown",
   "metadata": {},
   "source": [
    "# Implementation of LSTM to Motion Classification Application\n",
    "Implementation of LSTM technique to motion detection application. Developed by James Youngchae Chee."
   ]
  },
  {
   "cell_type": "markdown",
   "metadata": {},
   "source": [
    "### 1. Setting Up Environment"
   ]
  },
  {
   "cell_type": "code",
   "execution_count": 2,
   "metadata": {},
   "outputs": [],
   "source": [
    "import tensorflow as tf\n",
    "from tensorflow.contrib import rnn\n",
    "import matplotlib.pyplot as plt\n",
    "import numpy as np\n",
    "import pandas as pd"
   ]
  },
  {
   "cell_type": "markdown",
   "metadata": {},
   "source": [
    "### 2. Importing Data\n",
    "This dataset contains fall, swing and still gyro and accelerometer data."
   ]
  },
  {
   "cell_type": "code",
   "execution_count": 3,
   "metadata": {},
   "outputs": [],
   "source": [
    "train_data = [pd.read_csv('./data/swing.csv',header=None),\n",
    "             pd.read_csv('./data/still.csv',header=None)]\n",
    "test_data = [pd.read_csv('./data/swingtest.csv',header=None),\n",
    "             pd.read_csv('./data/stilltest.csv',header=None)]"
   ]
  },
  {
   "cell_type": "markdown",
   "metadata": {},
   "source": [
    "### 3. Examining Data\n",
    "Each Data has <b>1200</b> dimensions --> Stacked numerous sensor data together\n",
    "<br>Each Retrieval of sesor data looks like (linear_accel x,y,z, Gyro x,y,z)\n",
    "<br><b>Number of train_data : 50\n",
    "<br><b>Number of test_data : 10\n",
    "    \n",
    "### Need Better dataset  --> each action data is 10 seconds long which doesn't represents a reliable labeled data"
   ]
  },
  {
   "cell_type": "code",
   "execution_count": 14,
   "metadata": {},
   "outputs": [
    {
     "data": {
      "text/html": [
       "<div>\n",
       "<style scoped>\n",
       "    .dataframe tbody tr th:only-of-type {\n",
       "        vertical-align: middle;\n",
       "    }\n",
       "\n",
       "    .dataframe tbody tr th {\n",
       "        vertical-align: top;\n",
       "    }\n",
       "\n",
       "    .dataframe thead th {\n",
       "        text-align: right;\n",
       "    }\n",
       "</style>\n",
       "<table border=\"1\" class=\"dataframe\">\n",
       "  <thead>\n",
       "    <tr style=\"text-align: right;\">\n",
       "      <th></th>\n",
       "      <th>0</th>\n",
       "      <th>1</th>\n",
       "      <th>2</th>\n",
       "      <th>3</th>\n",
       "      <th>4</th>\n",
       "      <th>5</th>\n",
       "      <th>6</th>\n",
       "      <th>7</th>\n",
       "      <th>8</th>\n",
       "      <th>9</th>\n",
       "      <th>...</th>\n",
       "      <th>1190</th>\n",
       "      <th>1191</th>\n",
       "      <th>1192</th>\n",
       "      <th>1193</th>\n",
       "      <th>1194</th>\n",
       "      <th>1195</th>\n",
       "      <th>1196</th>\n",
       "      <th>1197</th>\n",
       "      <th>1198</th>\n",
       "      <th>1199</th>\n",
       "    </tr>\n",
       "  </thead>\n",
       "  <tbody>\n",
       "    <tr>\n",
       "      <th>0</th>\n",
       "      <td>0.016617</td>\n",
       "      <td>0.358795</td>\n",
       "      <td>-1.035721</td>\n",
       "      <td>-0.004248</td>\n",
       "      <td>0.113635</td>\n",
       "      <td>0.046729</td>\n",
       "      <td>-1.263992</td>\n",
       "      <td>0.626968</td>\n",
       "      <td>0.064026</td>\n",
       "      <td>-0.002124</td>\n",
       "      <td>...</td>\n",
       "      <td>3.639145</td>\n",
       "      <td>0.027612</td>\n",
       "      <td>2.485107</td>\n",
       "      <td>0.805005</td>\n",
       "      <td>0.223007</td>\n",
       "      <td>-1.093353</td>\n",
       "      <td>3.568604</td>\n",
       "      <td>0.00000</td>\n",
       "      <td>2.291821</td>\n",
       "      <td>0.781641</td>\n",
       "    </tr>\n",
       "    <tr>\n",
       "      <th>1</th>\n",
       "      <td>2.439789</td>\n",
       "      <td>-0.589111</td>\n",
       "      <td>1.827896</td>\n",
       "      <td>-0.011682</td>\n",
       "      <td>-0.004248</td>\n",
       "      <td>0.007434</td>\n",
       "      <td>2.439789</td>\n",
       "      <td>-0.589111</td>\n",
       "      <td>1.827896</td>\n",
       "      <td>-0.011682</td>\n",
       "      <td>...</td>\n",
       "      <td>1.446808</td>\n",
       "      <td>-0.045667</td>\n",
       "      <td>1.305212</td>\n",
       "      <td>0.451355</td>\n",
       "      <td>2.819183</td>\n",
       "      <td>-0.452820</td>\n",
       "      <td>0.934021</td>\n",
       "      <td>-0.04248</td>\n",
       "      <td>0.881470</td>\n",
       "      <td>0.316480</td>\n",
       "    </tr>\n",
       "  </tbody>\n",
       "</table>\n",
       "<p>2 rows × 1200 columns</p>\n",
       "</div>"
      ],
      "text/plain": [
       "       0         1         2         3         4         5         6     \\\n",
       "0  0.016617  0.358795 -1.035721 -0.004248  0.113635  0.046729 -1.263992   \n",
       "1  2.439789 -0.589111  1.827896 -0.011682 -0.004248  0.007434  2.439789   \n",
       "\n",
       "       7         8         9       ...         1190      1191      1192  \\\n",
       "0  0.626968  0.064026 -0.002124    ...     3.639145  0.027612  2.485107   \n",
       "1 -0.589111  1.827896 -0.011682    ...     1.446808 -0.045667  1.305212   \n",
       "\n",
       "       1193      1194      1195      1196     1197      1198      1199  \n",
       "0  0.805005  0.223007 -1.093353  3.568604  0.00000  2.291821  0.781641  \n",
       "1  0.451355  2.819183 -0.452820  0.934021 -0.04248  0.881470  0.316480  \n",
       "\n",
       "[2 rows x 1200 columns]"
      ]
     },
     "execution_count": 14,
     "metadata": {},
     "output_type": "execute_result"
    }
   ],
   "source": [
    "train_data[0].head(2)"
   ]
  },
  {
   "cell_type": "code",
   "execution_count": 15,
   "metadata": {},
   "outputs": [
    {
     "data": {
      "text/html": [
       "<div>\n",
       "<style scoped>\n",
       "    .dataframe tbody tr th:only-of-type {\n",
       "        vertical-align: middle;\n",
       "    }\n",
       "\n",
       "    .dataframe tbody tr th {\n",
       "        vertical-align: top;\n",
       "    }\n",
       "\n",
       "    .dataframe thead th {\n",
       "        text-align: right;\n",
       "    }\n",
       "</style>\n",
       "<table border=\"1\" class=\"dataframe\">\n",
       "  <thead>\n",
       "    <tr style=\"text-align: right;\">\n",
       "      <th></th>\n",
       "      <th>0</th>\n",
       "      <th>1</th>\n",
       "      <th>2</th>\n",
       "      <th>3</th>\n",
       "      <th>4</th>\n",
       "      <th>5</th>\n",
       "      <th>6</th>\n",
       "      <th>7</th>\n",
       "      <th>8</th>\n",
       "      <th>9</th>\n",
       "      <th>...</th>\n",
       "      <th>1190</th>\n",
       "      <th>1191</th>\n",
       "      <th>1192</th>\n",
       "      <th>1193</th>\n",
       "      <th>1194</th>\n",
       "      <th>1195</th>\n",
       "      <th>1196</th>\n",
       "      <th>1197</th>\n",
       "      <th>1198</th>\n",
       "      <th>1199</th>\n",
       "    </tr>\n",
       "  </thead>\n",
       "  <tbody>\n",
       "    <tr>\n",
       "      <th>0</th>\n",
       "      <td>-3.282227</td>\n",
       "      <td>-1.110794</td>\n",
       "      <td>0.673569</td>\n",
       "      <td>3.143555</td>\n",
       "      <td>-2.313062</td>\n",
       "      <td>-0.727478</td>\n",
       "      <td>-3.314667</td>\n",
       "      <td>-1.153244</td>\n",
       "      <td>0.662994</td>\n",
       "      <td>0.104077</td>\n",
       "      <td>...</td>\n",
       "      <td>0.044067</td>\n",
       "      <td>-0.002124</td>\n",
       "      <td>-0.005310</td>\n",
       "      <td>0.004248</td>\n",
       "      <td>-0.001617</td>\n",
       "      <td>0.042175</td>\n",
       "      <td>0.044067</td>\n",
       "      <td>-0.013806</td>\n",
       "      <td>-0.007434</td>\n",
       "      <td>0.003186</td>\n",
       "    </tr>\n",
       "    <tr>\n",
       "      <th>1</th>\n",
       "      <td>-0.064117</td>\n",
       "      <td>0.273438</td>\n",
       "      <td>0.307724</td>\n",
       "      <td>-0.023364</td>\n",
       "      <td>-0.062659</td>\n",
       "      <td>0.046729</td>\n",
       "      <td>-7.253113</td>\n",
       "      <td>4.420563</td>\n",
       "      <td>8.765472</td>\n",
       "      <td>-0.192224</td>\n",
       "      <td>...</td>\n",
       "      <td>-0.033951</td>\n",
       "      <td>0.015930</td>\n",
       "      <td>0.012744</td>\n",
       "      <td>-0.011682</td>\n",
       "      <td>-0.038284</td>\n",
       "      <td>0.046951</td>\n",
       "      <td>0.061691</td>\n",
       "      <td>0.031860</td>\n",
       "      <td>-0.066907</td>\n",
       "      <td>0.000000</td>\n",
       "    </tr>\n",
       "  </tbody>\n",
       "</table>\n",
       "<p>2 rows × 1200 columns</p>\n",
       "</div>"
      ],
      "text/plain": [
       "       0         1         2         3         4         5         6     \\\n",
       "0 -3.282227 -1.110794  0.673569  3.143555 -2.313062 -0.727478 -3.314667   \n",
       "1 -0.064117  0.273438  0.307724 -0.023364 -0.062659  0.046729 -7.253113   \n",
       "\n",
       "       7         8         9       ...         1190      1191      1192  \\\n",
       "0 -1.153244  0.662994  0.104077    ...     0.044067 -0.002124 -0.005310   \n",
       "1  4.420563  8.765472 -0.192224    ...    -0.033951  0.015930  0.012744   \n",
       "\n",
       "       1193      1194      1195      1196      1197      1198      1199  \n",
       "0  0.004248 -0.001617  0.042175  0.044067 -0.013806 -0.007434  0.003186  \n",
       "1 -0.011682 -0.038284  0.046951  0.061691  0.031860 -0.066907  0.000000  \n",
       "\n",
       "[2 rows x 1200 columns]"
      ]
     },
     "execution_count": 15,
     "metadata": {},
     "output_type": "execute_result"
    }
   ],
   "source": [
    "train_data[1].head(2)"
   ]
  },
  {
   "cell_type": "code",
   "execution_count": 4,
   "metadata": {},
   "outputs": [
    {
     "data": {
      "text/plain": [
       "(50, 1200)"
      ]
     },
     "execution_count": 4,
     "metadata": {},
     "output_type": "execute_result"
    }
   ],
   "source": [
    "train_data[0].shape"
   ]
  },
  {
   "cell_type": "code",
   "execution_count": 5,
   "metadata": {},
   "outputs": [
    {
     "data": {
      "text/plain": [
       "(10, 1200)"
      ]
     },
     "execution_count": 5,
     "metadata": {},
     "output_type": "execute_result"
    }
   ],
   "source": [
    "test_data[0].shape"
   ]
  },
  {
   "cell_type": "markdown",
   "metadata": {},
   "source": [
    "### 4. Define Model"
   ]
  },
  {
   "cell_type": "code",
   "execution_count": 6,
   "metadata": {},
   "outputs": [],
   "source": [
    "# Model Representation\n",
    "#                        O * W + b -> 2 labels for each image, O[? 6], W[6 2], B[2]\n",
    "#                       ^ (O: output 6 vec from 6 vec input)\n",
    "#                       |\n",
    "#      +-+  +-+       +--+\n",
    "#      |1|->|2|-> ... |200| time_step_size = lstm_size = 200\n",
    "#      +-+  +-+       +--+\n",
    "#       ^    ^    ...  ^\n",
    "#       |    |         |\n",
    "#data1:[6]  [6]  ...  [6] input_vec_size = 6\n",
    "#data2:[6]  [6]  ...  [6]\n",
    "# ...\n",
    "\n",
    "# configuration variables\n",
    "input_vec_size = 6\n",
    "time_step_size = lstm_size = 200\n",
    "\n",
    "batch_size = 5 # training batch size\n",
    "test_size = 10 # validation batch size\n",
    "\n",
    "def model(X,W,B,lstm_size):\n",
    "    # X, input shape: (batch_size, input_vec_size, time_step_size)\n",
    "    # XT, shape: (time_step_size,batch_size,input_vec_size)\n",
    "    XT = tf.transpose(X,[1,2,0])\n",
    "    # XR, shape: (time_step_size * batch_size , input_vec_size)\n",
    "    XR = tf.reshape(XT,[-1,input_vec_size])\n",
    "    # X_time, each data shape: (batch_size,input_vec_size)\n",
    "    X_time = tf.split(XR,time_step_size,0)\n",
    "    \n",
    "    # make lstm cell with lstm_size\n",
    "    lstm = rnn.BasicLSTMCell(lstm_size, forget_bias=1.0, state_is_tuple=True)\n",
    "    \n",
    "    # Get lstm cell output, time_step_size (200) arrays with lstm_size output: (batch_size, lstm_size)\n",
    "    outputs, _states = rnn.static_rnn(lstm, X_split, dtype=tf.float32)\n",
    "    \n",
    "    return tf.matmul(outputs[-1], W) + B, lstm.state_size"
   ]
  },
  {
   "cell_type": "markdown",
   "metadata": {},
   "source": [
    "### 5. Reshape input data"
   ]
  },
  {
   "cell_type": "code",
   "execution_count": 54,
   "metadata": {},
   "outputs": [
    {
     "data": {
      "text/plain": [
       "(200,)"
      ]
     },
     "execution_count": 54,
     "metadata": {},
     "output_type": "execute_result"
    }
   ],
   "source": [
    "trX = np.reshape(np.array([train_data[i].values for i in range(2)]),(100,1200)) # converge two classes of data\n",
    "teX = np.reshape(np.array([test_data[i].values for i in range(2)]),(20,1200)) # converge two classes of data\n",
    "trX = np.transpose(np.reshape(trx,(-1,time_step_size,input_vec_size)),[0,2,1]) # reshape trX (-1,input_vec_size,time_step_size)\n",
    "teX = np.transpose(np.reshape(tex,(-1,time_step_size,input_vec_size)),[0,2,1]) # reshape teX (-1,input_vec_size,time_step_size)\n",
    "trY = np.append(np.array([[1,0] for _ in range(50)]),np.array([[0,1] for _ in range(50)]),axis=0)\n",
    "teY = np.append(np.array([[1,0] for _ in range(10)]),np.array([[0,1] for _ in range(10)]),axis=0)"
   ]
  },
  {
   "cell_type": "code",
   "execution_count": 44,
   "metadata": {},
   "outputs": [
    {
     "name": "stdout",
     "output_type": "stream",
     "text": [
      "('trX: ', (100, 6, 200))\n",
      "('trY: ', (100, 2))\n",
      "('teX: ', (20, 6, 200))\n",
      "('teY: ', (20, 2))\n"
     ]
    }
   ],
   "source": [
    "print('trX: ',trX.shape)\n",
    "print('trY: ',trY.shape)\n",
    "print('teX: ',teX.shape)\n",
    "print('teY: ',teY.shape)"
   ]
  }
 ],
 "metadata": {
  "kernelspec": {
   "display_name": "Python 3",
   "language": "python",
   "name": "python3"
  },
  "language_info": {
   "codemirror_mode": {
    "name": "ipython",
    "version": 2
   },
   "file_extension": ".py",
   "mimetype": "text/x-python",
   "name": "python",
   "nbconvert_exporter": "python",
   "pygments_lexer": "ipython2",
   "version": "2.7.13"
  }
 },
 "nbformat": 4,
 "nbformat_minor": 2
}
