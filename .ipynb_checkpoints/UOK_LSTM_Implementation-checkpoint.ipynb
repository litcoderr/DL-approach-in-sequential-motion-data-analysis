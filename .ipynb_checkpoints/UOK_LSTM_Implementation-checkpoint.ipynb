{
 "cells": [
  {
   "cell_type": "markdown",
   "metadata": {},
   "source": [
    "# Implementation of LSTM to Motion Classification Application\n",
    "Implementation of LSTM technique to motion detection application. Developed by James Youngchae Chee."
   ]
  },
  {
   "cell_type": "markdown",
   "metadata": {},
   "source": [
    "### 1. Setting Up Environment"
   ]
  },
  {
   "cell_type": "code",
   "execution_count": 20,
   "metadata": {},
   "outputs": [],
   "source": [
    "import tensorflow as tf\n",
    "from tensorflow.contrib import rnn\n",
    "import matplotlib.pyplot as plt\n",
    "import numpy as np\n",
    "import pandas as pd"
   ]
  },
  {
   "cell_type": "markdown",
   "metadata": {},
   "source": [
    "### 2. Importing Data\n",
    "This dataset contains fall, swing and still gyro and accelerometer data."
   ]
  },
  {
   "cell_type": "code",
   "execution_count": 21,
   "metadata": {},
   "outputs": [],
   "source": [
    "train_data = [pd.read_csv('./data/swing.csv',header=None),\n",
    "             pd.read_csv('./data/still.csv',header=None)]\n",
    "test_data = [pd.read_csv('./data/swingtest.csv',header=None),\n",
    "             pd.read_csv('./data/stilltest.csv',header=None)]"
   ]
  },
  {
   "cell_type": "markdown",
   "metadata": {},
   "source": [
    "### 3. Examining Data\n",
    "Each Data has <b>1200</b> dimensions --> Stacked numerous sensor data together\n",
    "<br>Each Retrieval of sesor data looks like (linear_accel x,y,z, Gyro x,y,z)\n",
    "<br><b>Number of train_data : 50\n",
    "<br><b>Number of test_data : 10\n",
    "    \n",
    "### Need Better dataset  --> each action data is 10 seconds long which doesn't represents a reliable labeled data"
   ]
  },
  {
   "cell_type": "code",
   "execution_count": 22,
   "metadata": {},
   "outputs": [
    {
     "data": {
      "text/plain": [
       "(50, 1200)"
      ]
     },
     "execution_count": 22,
     "metadata": {},
     "output_type": "execute_result"
    }
   ],
   "source": [
    "train_data[0].shape"
   ]
  },
  {
   "cell_type": "code",
   "execution_count": 23,
   "metadata": {},
   "outputs": [
    {
     "data": {
      "text/plain": [
       "(10, 1200)"
      ]
     },
     "execution_count": 23,
     "metadata": {},
     "output_type": "execute_result"
    }
   ],
   "source": [
    "test_data[0].shape"
   ]
  },
  {
   "cell_type": "markdown",
   "metadata": {},
   "source": [
    "### 4. Define Model"
   ]
  },
  {
   "cell_type": "code",
   "execution_count": 28,
   "metadata": {},
   "outputs": [],
   "source": [
    "# Model Representation\n",
    "#                        O * W + b -> 2 labels for each image, O[? 6], W[6 2], B[2]\n",
    "#                       ^ (O: output 6 vec from 6 vec input)\n",
    "#                       |\n",
    "#      +-+  +-+       +--+\n",
    "#      |1|->|2|-> ... |200| time_step_size = lstm_size = 200\n",
    "#      +-+  +-+       +--+\n",
    "#       ^    ^    ...  ^\n",
    "#       |    |         |\n",
    "#data1:[6]  [6]  ...  [6] input_vec_size = 6\n",
    "#data2:[6]  [6]  ...  [6]\n",
    "# ...\n",
    "\n",
    "# configuration variables\n",
    "input_vec_size = 6\n",
    "time_step_size = lstm_size = 200\n",
    "\n",
    "batch_size = 5 # training batch size\n",
    "test_size = 10 # validation batch size\n",
    "\n",
    "def model(X,W,B,lstm_size):\n",
    "    # X, input shape: (batch_size, input_vec_size, time_step_size)\n",
    "    # XT, shape: (time_step_size,batch_size,input_vec_size)\n",
    "    XT = tf.transpose(X,[1,2,0])\n",
    "    # XR, shape: (time_step_size * batch_size , input_vec_size)\n",
    "    XR = tf.reshape(XT,[-1,input_vec_size])\n",
    "    # X_time, each data shape: (batch_size,input_vec_size)\n",
    "    X_time = tf.split(XR,time_step_size,0)\n",
    "    \n",
    "    # make lstm cell with lstm_size\n",
    "    lstm = rnn.BasicLSTMCell(lstm_size, forget_bias=1.0, state_is_tuple=True)\n",
    "    \n",
    "    # Get lstm cell output, time_step_size (200) arrays with lstm_size output: (batch_size, lstm_size)\n",
    "    outputs, _states = rnn.static_rnn(lstm, X_split, dtype=tf.float32)\n",
    "    \n",
    "    return tf.matmul(outputs[-1], W) + B, lstm.state_size"
   ]
  },
  {
   "cell_type": "markdown",
   "metadata": {},
   "source": [
    "### 5. Define Variables and cost function"
   ]
  },
  {
   "cell_type": "code",
   "execution_count": null,
   "metadata": {},
   "outputs": [],
   "source": []
  }
 ],
 "metadata": {
  "kernelspec": {
   "display_name": "Python 3",
   "language": "python",
   "name": "python3"
  },
  "language_info": {
   "codemirror_mode": {
    "name": "ipython",
    "version": 2
   },
   "file_extension": ".py",
   "mimetype": "text/x-python",
   "name": "python",
   "nbconvert_exporter": "python",
   "pygments_lexer": "ipython2",
   "version": "2.7.13"
  }
 },
 "nbformat": 4,
 "nbformat_minor": 2
}
